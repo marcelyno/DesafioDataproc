{
  "nbformat": 4,
  "nbformat_minor": 0,
  "metadata": {
    "colab": {
      "name": "Pyspak_01.ipynb",
      "provenance": [],
      "authorship_tag": "ABX9TyNDSD/GqWzoFZpkjPvawpD/",
      "include_colab_link": true
    },
    "kernelspec": {
      "name": "python3",
      "display_name": "Python 3"
    },
    "language_info": {
      "name": "python"
    }
  },
  "cells": [
    {
      "cell_type": "markdown",
      "metadata": {
        "id": "view-in-github",
        "colab_type": "text"
      },
      "source": [
        "<a href=\"https://colab.research.google.com/github/marcelyno/DesafioDataproc/blob/master/Pyspak_01.ipynb\" target=\"_parent\"><img src=\"https://colab.research.google.com/assets/colab-badge.svg\" alt=\"Open In Colab\"/></a>"
      ]
    },
    {
      "cell_type": "code",
      "metadata": {
        "id": "JqoYZb0gqJka"
      },
      "source": [
        "import pyspark;\n"
      ],
      "execution_count": 2,
      "outputs": []
    },
    {
      "cell_type": "markdown",
      "metadata": {
        "id": "nWpoqhMsqZUv"
      },
      "source": [
        ""
      ]
    },
    {
      "cell_type": "code",
      "metadata": {
        "colab": {
          "base_uri": "https://localhost:8080/"
        },
        "id": "BsSoL_VmqaOG",
        "outputId": "ba46b0d4-a386-4e5f-835a-8fc362e74db1"
      },
      "source": [
        "pip install pyspark"
      ],
      "execution_count": 1,
      "outputs": [
        {
          "output_type": "stream",
          "name": "stdout",
          "text": [
            "Collecting pyspark\n",
            "  Downloading pyspark-3.1.2.tar.gz (212.4 MB)\n",
            "\u001b[K     |████████████████████████████████| 212.4 MB 71 kB/s \n",
            "\u001b[?25hCollecting py4j==0.10.9\n",
            "  Downloading py4j-0.10.9-py2.py3-none-any.whl (198 kB)\n",
            "\u001b[K     |████████████████████████████████| 198 kB 43.4 MB/s \n",
            "\u001b[?25hBuilding wheels for collected packages: pyspark\n",
            "  Building wheel for pyspark (setup.py) ... \u001b[?25l\u001b[?25hdone\n",
            "  Created wheel for pyspark: filename=pyspark-3.1.2-py2.py3-none-any.whl size=212880768 sha256=f667bef2a43c8bcd67e0df9433c8fff12fe02388bf7065048e23eacbb08c1778\n",
            "  Stored in directory: /root/.cache/pip/wheels/a5/0a/c1/9561f6fecb759579a7d863dcd846daaa95f598744e71b02c77\n",
            "Successfully built pyspark\n",
            "Installing collected packages: py4j, pyspark\n",
            "Successfully installed py4j-0.10.9 pyspark-3.1.2\n"
          ]
        }
      ]
    },
    {
      "cell_type": "code",
      "metadata": {
        "id": "W7niRhbsqeuv"
      },
      "source": [
        "from pyspark.sql import SparkSession\n"
      ],
      "execution_count": 3,
      "outputs": []
    },
    {
      "cell_type": "code",
      "metadata": {
        "id": "Yd9JwQBfq7ze"
      },
      "source": [
        "spark = SparkSession.builder.appName(\"Exemplo \").getOrCreate()"
      ],
      "execution_count": 4,
      "outputs": []
    },
    {
      "cell_type": "code",
      "metadata": {
        "id": "8OMaPS3OrMPm"
      },
      "source": [
        "dept = [(\"Financeiro\",10), \\\n",
        "    (\"Marketin\", 10), \\\n",
        "    (\"Contabilidade\",50), \\\n",
        "    (\"RH\",60) \\\n",
        "    ]"
      ],
      "execution_count": 5,
      "outputs": []
    },
    {
      "cell_type": "code",
      "metadata": {
        "colab": {
          "base_uri": "https://localhost:8080/"
        },
        "id": "sN61qjo4rwwW",
        "outputId": "9a01181d-6a37-4371-abdd-69293bbb020e"
      },
      "source": [
        "deptColumns = [\"dept_name\",\"dept_id\"]\n",
        "deptDF = spark.createDataFrame(data=dept, schema=deptColumns)\n",
        "deptDF.show(truncate=False)"
      ],
      "execution_count": 6,
      "outputs": [
        {
          "output_type": "stream",
          "name": "stdout",
          "text": [
            "+-------------+-------+\n",
            "|dept_name    |dept_id|\n",
            "+-------------+-------+\n",
            "|Financeiro   |10     |\n",
            "|Marketin     |10     |\n",
            "|Contabilidade|50     |\n",
            "|RH           |60     |\n",
            "+-------------+-------+\n",
            "\n"
          ]
        }
      ]
    },
    {
      "cell_type": "code",
      "metadata": {
        "colab": {
          "base_uri": "https://localhost:8080/"
        },
        "id": "PAPke32ysQ42",
        "outputId": "d3037a05-6fd6-4901-8d80-12e706cb2024"
      },
      "source": [
        "dataColletct = deptDF.collect()\n",
        "print(dataColletct)"
      ],
      "execution_count": 7,
      "outputs": [
        {
          "output_type": "stream",
          "name": "stdout",
          "text": [
            "[Row(dept_name='Financeiro', dept_id=10), Row(dept_name='Marketin', dept_id=10), Row(dept_name='Contabilidade', dept_id=50), Row(dept_name='RH', dept_id=60)]\n"
          ]
        }
      ]
    },
    {
      "cell_type": "code",
      "metadata": {
        "colab": {
          "base_uri": "https://localhost:8080/"
        },
        "id": "zYXmRu4fstLN",
        "outputId": "3348debd-ab23-4884-da53-22be5f33aaad"
      },
      "source": [
        "for row in dataColletct:\n",
        "  print(row['dept_name'] + \",\" +str(row['dept_id']))"
      ],
      "execution_count": 8,
      "outputs": [
        {
          "output_type": "stream",
          "name": "stdout",
          "text": [
            "Financeiro,10\n",
            "Marketin,10\n",
            "Contabilidade,50\n",
            "RH,60\n"
          ]
        }
      ]
    },
    {
      "cell_type": "code",
      "metadata": {
        "id": "Dv6ErycvtJuF"
      },
      "source": [
        ""
      ],
      "execution_count": 8,
      "outputs": []
    },
    {
      "cell_type": "code",
      "metadata": {
        "id": "KrrNhqeQPUz3",
        "outputId": "816825a4-6668-48fd-f70e-6e60ac8499a9",
        "colab": {
          "base_uri": "https://localhost:8080/"
        }
      },
      "source": [
        "deptDF.describe().show()"
      ],
      "execution_count": 12,
      "outputs": [
        {
          "output_type": "stream",
          "name": "stdout",
          "text": [
            "+-------+-------------+------------------+\n",
            "|summary|    dept_name|           dept_id|\n",
            "+-------+-------------+------------------+\n",
            "|  count|            4|                 4|\n",
            "|   mean|         null|              32.5|\n",
            "| stddev|         null|26.299556396765833|\n",
            "|    min|Contabilidade|                10|\n",
            "|    max|           RH|                60|\n",
            "+-------+-------------+------------------+\n",
            "\n"
          ]
        }
      ]
    },
    {
      "cell_type": "code",
      "metadata": {
        "id": "Epfn2KdZPaBG",
        "outputId": "a86f6666-fd46-4d1d-cf52-ad11ba6d5d47",
        "colab": {
          "base_uri": "https://localhost:8080/"
        }
      },
      "source": [
        "deptDF.columns"
      ],
      "execution_count": 13,
      "outputs": [
        {
          "output_type": "execute_result",
          "data": {
            "text/plain": [
              "['dept_name', 'dept_id']"
            ]
          },
          "metadata": {},
          "execution_count": 13
        }
      ]
    },
    {
      "cell_type": "code",
      "metadata": {
        "id": "gTWa7runPzsF"
      },
      "source": [
        ""
      ],
      "execution_count": null,
      "outputs": []
    }
  ]
}